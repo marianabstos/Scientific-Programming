{
 "cells": [
  {
   "cell_type": "code",
   "execution_count": 3,
   "metadata": {},
   "outputs": [],
   "source": [
    "def funcao_a(x):\n",
    "    return x*x\n",
    "\n",
    "def derivada_funcao_a(x):\n",
    "    return 2*x\n",
    "\n",
    "def funcao_b(x):\n",
    "    return ((x*x*x) - (2*(x*x)) + 2)\n",
    "\n",
    "def derivada_funcao_b(x):\n",
    "    return ((3*(x*x)) - (4*x))"
   ]
  },
  {
   "cell_type": "markdown",
   "metadata": {},
   "source": [
    "# Método Newton-Raphson"
   ]
  },
  {
   "cell_type": "code",
   "execution_count": 46,
   "metadata": {},
   "outputs": [],
   "source": [
    "def newton_raphson_a(num):\n",
    "    x = []\n",
    "    x.append(num)\n",
    "    f = []\n",
    "    f.append(funcao_a(x[0]))\n",
    "    \n",
    "    i=0\n",
    "    beta = 0.1\n",
    "    while((f[i] != 0)):\n",
    "        \n",
    "        print(\"f({0}) = {1:.3f}\".format(i,f[i]))\n",
    "        print(\"x{0} = {1:.3f}\".format(i,x[i]))\n",
    "        print(\"Taxa aprendizado = {0:.1f}\".format(beta))\n",
    "        \n",
    "        x.append(x[i] - (beta*f[i])*(1/derivada_funcao_a(x[i])))\n",
    "        \n",
    "        i+=1\n",
    "        beta += 0.1\n",
    "        \n",
    "        if (beta > 1):\n",
    "            break\n",
    "        \n",
    "        f.append(funcao_a(x[i]))"
   ]
  },
  {
   "cell_type": "code",
   "execution_count": 48,
   "metadata": {},
   "outputs": [],
   "source": [
    "def newton_raphson_b(num):\n",
    "    x = []\n",
    "    x.append(num)\n",
    "    f = []\n",
    "    f.append(funcao_b(x[0]))\n",
    "    \n",
    "    i=0\n",
    "    beta = 0.1\n",
    "    while((f[i] != 0)):\n",
    "        \n",
    "        print(\"f({0}) = {1:.3f}\".format(i,f[i]))\n",
    "        print(\"x{0} = {1:.3f}\".format(i,x[i]))\n",
    "        print(\"Taxa aprendizado = {0:.1f}\".format(beta))\n",
    "        \n",
    "        x.append(x[i] - (beta*f[i])*(1/derivada_funcao_b(x[i])))\n",
    "        \n",
    "        i+=1\n",
    "        beta += 0.1\n",
    "        \n",
    "        if (beta > 1):\n",
    "            break\n",
    "        \n",
    "        f.append(funcao_b(x[i]))"
   ]
  },
  {
   "cell_type": "markdown",
   "metadata": {},
   "source": [
    "# Resultado Newton-Raphson"
   ]
  },
  {
   "cell_type": "code",
   "execution_count": 47,
   "metadata": {},
   "outputs": [
    {
     "name": "stdout",
     "output_type": "stream",
     "text": [
      "f(0) = 4.000\n",
      "x0 = 2.000\n",
      "Taxa aprendizado = 0.1\n",
      "f(1) = 3.610\n",
      "x1 = 1.900\n",
      "Taxa aprendizado = 0.2\n",
      "f(2) = 2.924\n",
      "x2 = 1.710\n",
      "Taxa aprendizado = 0.3\n",
      "f(3) = 2.113\n",
      "x3 = 1.454\n",
      "Taxa aprendizado = 0.4\n",
      "f(4) = 1.352\n",
      "x4 = 1.163\n",
      "Taxa aprendizado = 0.5\n",
      "f(5) = 0.761\n",
      "x5 = 0.872\n",
      "Taxa aprendizado = 0.6\n",
      "f(6) = 0.373\n",
      "x6 = 0.610\n",
      "Taxa aprendizado = 0.7\n",
      "f(7) = 0.157\n",
      "x7 = 0.397\n",
      "Taxa aprendizado = 0.8\n",
      "f(8) = 0.057\n",
      "x8 = 0.238\n",
      "Taxa aprendizado = 0.9\n",
      "f(9) = 0.017\n",
      "x9 = 0.131\n",
      "Taxa aprendizado = 1.0\n"
     ]
    }
   ],
   "source": [
    "newton_raphson_a(2)"
   ]
  },
  {
   "cell_type": "code",
   "execution_count": 49,
   "metadata": {},
   "outputs": [
    {
     "name": "stdout",
     "output_type": "stream",
     "text": [
      "f(0) = 2.000\n",
      "x0 = 2.000\n",
      "Taxa aprendizado = 0.1\n",
      "f(1) = 1.810\n",
      "x1 = 1.950\n",
      "Taxa aprendizado = 0.2\n",
      "f(2) = 1.486\n",
      "x2 = 1.850\n",
      "Taxa aprendizado = 0.3\n",
      "f(3) = 1.122\n",
      "x3 = 1.694\n",
      "Taxa aprendizado = 0.4\n",
      "f(4) = 0.843\n",
      "x4 = 1.449\n",
      "Taxa aprendizado = 0.5\n",
      "f(5) = 1.479\n",
      "x5 = 0.613\n",
      "Taxa aprendizado = 0.6\n",
      "f(6) = 0.820\n",
      "x6 = 1.283\n",
      "Taxa aprendizado = 0.7\n",
      "f(7) = 42.115\n",
      "x7 = 4.236\n",
      "Taxa aprendizado = 0.8\n",
      "f(8) = 16.596\n",
      "x8 = 3.322\n",
      "Taxa aprendizado = 0.9\n",
      "f(9) = 5.754\n",
      "x9 = 2.569\n",
      "Taxa aprendizado = 1.0\n"
     ]
    }
   ],
   "source": [
    "newton_raphson_b(2)"
   ]
  },
  {
   "cell_type": "markdown",
   "metadata": {},
   "source": [
    "# Descida de Gradiente"
   ]
  },
  {
   "cell_type": "code",
   "execution_count": 52,
   "metadata": {},
   "outputs": [],
   "source": [
    "def gradient_a(num):\n",
    "    x = []\n",
    "    x.append(num)\n",
    "    f = []\n",
    "    f.append(funcao_a(x[0]))\n",
    "    \n",
    "    i=0\n",
    "    beta = 0.1\n",
    "    while((f[i] != 0)):\n",
    "        \n",
    "        print(\"f'({0}) = {1:.3f}\".format(i,f[i]))\n",
    "        print(\"x{0} = {1:.3f}\".format(i,x[i]))\n",
    "        print(\"Taxa aprendizado = {0:.1f}\".format(beta))\n",
    "        \n",
    "        x.append(x[i] - ((beta)*(derivada_funcao_a(x[i]))))\n",
    "        \n",
    "        i+=1\n",
    "        beta += 0.1\n",
    "        \n",
    "        if (beta > 1):\n",
    "            break\n",
    "        \n",
    "        f.append(derivada_funcao_a(x[i]))"
   ]
  },
  {
   "cell_type": "code",
   "execution_count": 53,
   "metadata": {},
   "outputs": [],
   "source": [
    "def gradient_b(num):\n",
    "    x = []\n",
    "    x.append(num)\n",
    "    f = []\n",
    "    f.append(funcao_b(x[0]))\n",
    "    \n",
    "    i=0\n",
    "    beta = 0.1\n",
    "    while((f[i] != 0)):\n",
    "        \n",
    "        print(\"f'({0}) = {1:.3f}\".format(i,f[i]))\n",
    "        print(\"x{0} = {1:.3f}\".format(i,x[i]))\n",
    "        print(\"Taxa aprendizado = {0:.1f}\".format(beta))\n",
    "        \n",
    "        x.append(x[i] - ((beta)*(derivada_funcao_b(x[i]))))\n",
    "        \n",
    "        i+=1\n",
    "        beta += 0.1\n",
    "        \n",
    "        if (beta > 1):\n",
    "            break\n",
    "        \n",
    "        f.append(derivada_funcao_b(x[i]))"
   ]
  },
  {
   "cell_type": "markdown",
   "metadata": {},
   "source": [
    "# Resultado Descida de Gradiente"
   ]
  },
  {
   "cell_type": "code",
   "execution_count": 54,
   "metadata": {},
   "outputs": [
    {
     "name": "stdout",
     "output_type": "stream",
     "text": [
      "f'(0) = 4.000\n",
      "x0 = 2.000\n",
      "Taxa aprendizado = 0.1\n",
      "f'(1) = 3.200\n",
      "x1 = 1.600\n",
      "Taxa aprendizado = 0.2\n",
      "f'(2) = 1.920\n",
      "x2 = 0.960\n",
      "Taxa aprendizado = 0.3\n",
      "f'(3) = 0.768\n",
      "x3 = 0.384\n",
      "Taxa aprendizado = 0.4\n",
      "f'(4) = 0.154\n",
      "x4 = 0.077\n",
      "Taxa aprendizado = 0.5\n"
     ]
    }
   ],
   "source": [
    "gradient_a(2)"
   ]
  },
  {
   "cell_type": "code",
   "execution_count": 55,
   "metadata": {},
   "outputs": [
    {
     "name": "stdout",
     "output_type": "stream",
     "text": [
      "f'(0) = 2.000\n",
      "x0 = 2.000\n",
      "Taxa aprendizado = 0.1\n",
      "f'(1) = 1.280\n",
      "x1 = 1.600\n",
      "Taxa aprendizado = 0.2\n",
      "f'(2) = 0.043\n",
      "x2 = 1.344\n",
      "Taxa aprendizado = 0.3\n",
      "f'(3) = -0.009\n",
      "x3 = 1.331\n",
      "Taxa aprendizado = 0.4\n",
      "f'(4) = 0.005\n",
      "x4 = 1.335\n",
      "Taxa aprendizado = 0.5\n",
      "f'(5) = -0.005\n",
      "x5 = 1.332\n",
      "Taxa aprendizado = 0.6\n",
      "f'(6) = 0.007\n",
      "x6 = 1.335\n",
      "Taxa aprendizado = 0.7\n",
      "f'(7) = -0.013\n",
      "x7 = 1.330\n",
      "Taxa aprendizado = 0.8\n",
      "f'(8) = 0.030\n",
      "x8 = 1.341\n",
      "Taxa aprendizado = 0.9\n",
      "f'(9) = -0.076\n",
      "x9 = 1.314\n",
      "Taxa aprendizado = 1.0\n"
     ]
    }
   ],
   "source": [
    "gradient_b(2)"
   ]
  }
 ],
 "metadata": {
  "kernelspec": {
   "display_name": "Python 3",
   "language": "python",
   "name": "python3"
  },
  "language_info": {
   "codemirror_mode": {
    "name": "ipython",
    "version": 3
   },
   "file_extension": ".py",
   "mimetype": "text/x-python",
   "name": "python",
   "nbconvert_exporter": "python",
   "pygments_lexer": "ipython3",
   "version": "3.6.4"
  }
 },
 "nbformat": 4,
 "nbformat_minor": 2
}
