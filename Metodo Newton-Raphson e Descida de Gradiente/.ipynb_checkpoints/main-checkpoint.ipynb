{
 "cells": [
  {
   "cell_type": "code",
   "execution_count": 34,
   "metadata": {},
   "outputs": [],
   "source": [
    "def funcao_a(x):\n",
    "    return x*x\n",
    "\n",
    "def derivada_funcao_a(x):\n",
    "    return 2*x\n",
    "\n",
    "def funcao_b(x):\n",
    "    return ((x*x*x) - (2*(x*x)) + 2)\n",
    "\n",
    "def derivada_funcao_b(x):\n",
    "    return ((3*(x*x)) - (4*x))"
   ]
  },
  {
   "cell_type": "markdown",
   "metadata": {},
   "source": [
    "# Método Newton-Raphson"
   ]
  },
  {
   "cell_type": "code",
   "execution_count": 56,
   "metadata": {},
   "outputs": [],
   "source": [
    "from decimal import Decimal\n",
    "def newton_raphson_a(num, beta):\n",
    "    x = []\n",
    "    x.append(num)\n",
    "    f = []\n",
    "    f.append(round(funcao_a(x[0]),2))\n",
    "    \n",
    "    i=0\n",
    "\n",
    "    while((f[i] != 0)):\n",
    "        x.append(x[i] - (beta*f[i])*(1/derivada_funcao_a(x[i])))\n",
    "        i+=1\n",
    "        f.append(round(funcao_a(x[i]),2))\n",
    "        \n",
    "    print(\"f({0}) = {1:.3f}\".format(i,f[i]))\n",
    "    print(\"x{0} = {1:.3f}\".format(i,x[i]))\n",
    "    print(\"Taxa aprendizado = {0:.1f}\".format(beta))"
   ]
  },
  {
   "cell_type": "code",
   "execution_count": 55,
   "metadata": {},
   "outputs": [],
   "source": [
    "def newton_raphson_b(num, beta):\n",
    "    x = []\n",
    "    x.append(num)\n",
    "    f = []\n",
    "    f.append(round(funcao_b(x[0]),2))\n",
    "    \n",
    "    i=0\n",
    "    while((f[i] != 0)):\n",
    "        x.append(x[i] - (beta*f[i])*(1/derivada_funcao_b(x[i])))\n",
    "        i+=1\n",
    "        f.append(round(funcao_b(x[i]),2))\n",
    "        \n",
    "    print(\"f({0}) = {1:.3f}\".format(i,f[i]))\n",
    "    print(\"x{0} = {1:.3f}\".format(i,x[i]))\n",
    "    print(\"Taxa aprendizado = {0:.1f}\".format(beta))"
   ]
  },
  {
   "cell_type": "markdown",
   "metadata": {},
   "source": [
    "# Resultado Newton-Raphson"
   ]
  },
  {
   "cell_type": "markdown",
   "metadata": {},
   "source": [
    "Equação A"
   ]
  },
  {
   "cell_type": "code",
   "execution_count": 57,
   "metadata": {},
   "outputs": [
    {
     "name": "stdout",
     "output_type": "stream",
     "text": [
      "f(65) = 0.000\n",
      "x65 = 0.067\n",
      "Taxa aprendizado = 0.1\n"
     ]
    }
   ],
   "source": [
    "newton_raphson_a(2,0.1)"
   ]
  },
  {
   "cell_type": "code",
   "execution_count": 59,
   "metadata": {},
   "outputs": [
    {
     "name": "stdout",
     "output_type": "stream",
     "text": [
      "f(31) = 0.000\n",
      "x31 = 0.067\n",
      "Taxa aprendizado = 0.2\n"
     ]
    }
   ],
   "source": [
    "newton_raphson_a(2,0.2)"
   ]
  },
  {
   "cell_type": "code",
   "execution_count": 60,
   "metadata": {},
   "outputs": [
    {
     "name": "stdout",
     "output_type": "stream",
     "text": [
      "f(21) = 0.000\n",
      "x21 = 0.064\n",
      "Taxa aprendizado = 0.3\n"
     ]
    }
   ],
   "source": [
    "newton_raphson_a(2,0.3)"
   ]
  },
  {
   "cell_type": "code",
   "execution_count": 61,
   "metadata": {},
   "outputs": [
    {
     "name": "stdout",
     "output_type": "stream",
     "text": [
      "f(15) = 0.000\n",
      "x15 = 0.065\n",
      "Taxa aprendizado = 0.4\n"
     ]
    }
   ],
   "source": [
    "newton_raphson_a(2,0.4)"
   ]
  },
  {
   "cell_type": "code",
   "execution_count": 62,
   "metadata": {},
   "outputs": [
    {
     "name": "stdout",
     "output_type": "stream",
     "text": [
      "f(13) = 0.000\n",
      "x13 = 0.038\n",
      "Taxa aprendizado = 0.5\n"
     ]
    }
   ],
   "source": [
    "newton_raphson_a(2,0.5)"
   ]
  },
  {
   "cell_type": "code",
   "execution_count": 63,
   "metadata": {},
   "outputs": [
    {
     "name": "stdout",
     "output_type": "stream",
     "text": [
      "f(10) = 0.000\n",
      "x10 = 0.045\n",
      "Taxa aprendizado = 0.6\n"
     ]
    }
   ],
   "source": [
    "newton_raphson_a(2,0.6)"
   ]
  },
  {
   "cell_type": "code",
   "execution_count": 64,
   "metadata": {},
   "outputs": [
    {
     "name": "stdout",
     "output_type": "stream",
     "text": [
      "f(8) = 0.000\n",
      "x8 = 0.056\n",
      "Taxa aprendizado = 0.7\n"
     ]
    }
   ],
   "source": [
    "newton_raphson_a(2,0.7)"
   ]
  },
  {
   "cell_type": "code",
   "execution_count": 65,
   "metadata": {},
   "outputs": [
    {
     "name": "stdout",
     "output_type": "stream",
     "text": [
      "f(7) = 0.000\n",
      "x7 = 0.039\n",
      "Taxa aprendizado = 0.8\n"
     ]
    }
   ],
   "source": [
    "newton_raphson_a(2,0.8)"
   ]
  },
  {
   "cell_type": "code",
   "execution_count": 66,
   "metadata": {},
   "outputs": [
    {
     "name": "stdout",
     "output_type": "stream",
     "text": [
      "f(6) = 0.000\n",
      "x6 = 0.062\n",
      "Taxa aprendizado = 0.9\n"
     ]
    }
   ],
   "source": [
    "newton_raphson_a(2,0.9)"
   ]
  },
  {
   "cell_type": "code",
   "execution_count": 67,
   "metadata": {},
   "outputs": [
    {
     "name": "stdout",
     "output_type": "stream",
     "text": [
      "f(5) = 0.000\n",
      "x5 = 0.053\n",
      "Taxa aprendizado = 1.0\n"
     ]
    }
   ],
   "source": [
    "newton_raphson_a(2,1.0)"
   ]
  },
  {
   "cell_type": "markdown",
   "metadata": {},
   "source": [
    "Equação B"
   ]
  },
  {
   "cell_type": "code",
   "execution_count": 58,
   "metadata": {},
   "outputs": [
    {
     "name": "stdout",
     "output_type": "stream",
     "text": [
      "f(96) = 0.000\n",
      "x96 = -0.838\n",
      "Taxa aprendizado = 0.1\n"
     ]
    }
   ],
   "source": [
    "newton_raphson_b(2,0.1)"
   ]
  },
  {
   "cell_type": "code",
   "execution_count": 69,
   "metadata": {},
   "outputs": [
    {
     "name": "stdout",
     "output_type": "stream",
     "text": [
      "f(72) = 0.000\n",
      "x72 = -0.839\n",
      "Taxa aprendizado = 0.2\n"
     ]
    }
   ],
   "source": [
    "newton_raphson_b(2,0.2)"
   ]
  },
  {
   "cell_type": "code",
   "execution_count": 70,
   "metadata": {},
   "outputs": [
    {
     "name": "stdout",
     "output_type": "stream",
     "text": [
      "f(39) = -0.000\n",
      "x39 = -0.840\n",
      "Taxa aprendizado = 0.3\n"
     ]
    }
   ],
   "source": [
    "newton_raphson_b(2,0.3)"
   ]
  },
  {
   "cell_type": "code",
   "execution_count": 71,
   "metadata": {},
   "outputs": [
    {
     "name": "stdout",
     "output_type": "stream",
     "text": [
      "f(82) = 0.000\n",
      "x82 = -0.839\n",
      "Taxa aprendizado = 0.4\n"
     ]
    }
   ],
   "source": [
    "newton_raphson_b(2,0.4)"
   ]
  },
  {
   "cell_type": "code",
   "execution_count": 72,
   "metadata": {},
   "outputs": [
    {
     "name": "stdout",
     "output_type": "stream",
     "text": [
      "f(72) = -0.000\n",
      "x72 = -0.840\n",
      "Taxa aprendizado = 0.5\n"
     ]
    }
   ],
   "source": [
    "newton_raphson_b(2,0.5)"
   ]
  },
  {
   "cell_type": "code",
   "execution_count": 73,
   "metadata": {},
   "outputs": [
    {
     "name": "stdout",
     "output_type": "stream",
     "text": [
      "f(24) = -0.000\n",
      "x24 = -0.840\n",
      "Taxa aprendizado = 0.6\n"
     ]
    }
   ],
   "source": [
    "newton_raphson_b(2,0.6)"
   ]
  },
  {
   "cell_type": "code",
   "execution_count": 74,
   "metadata": {},
   "outputs": [
    {
     "name": "stdout",
     "output_type": "stream",
     "text": [
      "f(47) = 0.000\n",
      "x47 = -0.839\n",
      "Taxa aprendizado = 0.7\n"
     ]
    }
   ],
   "source": [
    "newton_raphson_b(2,0.7)"
   ]
  },
  {
   "cell_type": "code",
   "execution_count": 75,
   "metadata": {},
   "outputs": [
    {
     "name": "stdout",
     "output_type": "stream",
     "text": [
      "f(19) = -0.000\n",
      "x19 = -0.840\n",
      "Taxa aprendizado = 0.8\n"
     ]
    }
   ],
   "source": [
    "newton_raphson_b(2,0.8)"
   ]
  },
  {
   "cell_type": "code",
   "execution_count": 76,
   "metadata": {},
   "outputs": [
    {
     "name": "stdout",
     "output_type": "stream",
     "text": [
      "f(23) = -0.000\n",
      "x23 = -0.840\n",
      "Taxa aprendizado = 0.9\n"
     ]
    }
   ],
   "source": [
    "newton_raphson_b(2,0.9)"
   ]
  },
  {
   "cell_type": "code",
   "execution_count": 77,
   "metadata": {},
   "outputs": [
    {
     "name": "stdout",
     "output_type": "stream",
     "text": [
      "f(25) = -0.000\n",
      "x25 = -0.840\n",
      "Taxa aprendizado = 1.0\n"
     ]
    }
   ],
   "source": [
    "newton_raphson_b(2,1.0)"
   ]
  },
  {
   "cell_type": "markdown",
   "metadata": {},
   "source": [
    "# Descida de Gradiente"
   ]
  },
  {
   "cell_type": "code",
   "execution_count": 50,
   "metadata": {},
   "outputs": [],
   "source": [
    "def gradient_a(num,beta):\n",
    "    x = []\n",
    "    x.append(num)\n",
    "    f = []\n",
    "    f.append(round(funcao_a(x[0]),2))\n",
    "    \n",
    "    i=0\n",
    "    \n",
    "    while((f[i] != 0)):\n",
    "        x.append(x[i] - ((beta)*(derivada_funcao_a(x[i]))))\n",
    "        \n",
    "        i+=1\n",
    "    \n",
    "        f.append(round(derivada_funcao_a(x[i]),2))\n",
    "        \n",
    "    \n",
    "    print(\"f'({0}) = {1:.3f}\".format(i,f[i]))\n",
    "    print(\"x{0} = {1:.3f}\".format(i,x[i]))\n",
    "    print(\"Taxa aprendizado = {0:.1f}\".format(beta))"
   ]
  },
  {
   "cell_type": "code",
   "execution_count": 48,
   "metadata": {},
   "outputs": [],
   "source": [
    "def gradient_b(num,beta):\n",
    "    x = []\n",
    "    x.append(num)\n",
    "    f = []\n",
    "    f.append(round(funcao_b(x[0]),2))\n",
    "    \n",
    "    i=0\n",
    "    \n",
    "    while((f[i] != 0)):\n",
    "        x.append(x[i] - ((beta)*(derivada_funcao_b(x[i]))))\n",
    "        i+=1\n",
    "        f.append(round(derivada_funcao_b(x[i]),2))\n",
    "        \n",
    "    \n",
    "    print(\"f'({0}) = {1:.3f}\".format(i,f[i]))\n",
    "    print(\"x{0} = {1:.3f}\".format(i,x[i]))\n",
    "    print(\"Taxa aprendizado = {0:.1f}\".format(beta))"
   ]
  },
  {
   "cell_type": "markdown",
   "metadata": {},
   "source": [
    "# Resultado Descida de Gradiente"
   ]
  },
  {
   "cell_type": "markdown",
   "metadata": {},
   "source": [
    "Equação A"
   ]
  },
  {
   "cell_type": "code",
   "execution_count": 54,
   "metadata": {},
   "outputs": [
    {
     "name": "stdout",
     "output_type": "stream",
     "text": [
      "f'(30) = 0.000\n",
      "x30 = 0.002\n",
      "Taxa aprendizado = 0.1\n"
     ]
    }
   ],
   "source": [
    "gradient_a(2,0.1)"
   ]
  },
  {
   "cell_type": "code",
   "execution_count": 78,
   "metadata": {},
   "outputs": [
    {
     "name": "stdout",
     "output_type": "stream",
     "text": [
      "f'(14) = 0.000\n",
      "x14 = 0.002\n",
      "Taxa aprendizado = 0.2\n"
     ]
    }
   ],
   "source": [
    "gradient_a(2,0.2)"
   ]
  },
  {
   "cell_type": "code",
   "execution_count": 79,
   "metadata": {},
   "outputs": [
    {
     "name": "stdout",
     "output_type": "stream",
     "text": [
      "f'(8) = 0.000\n",
      "x8 = 0.001\n",
      "Taxa aprendizado = 0.3\n"
     ]
    }
   ],
   "source": [
    "gradient_a(2,0.3)"
   ]
  },
  {
   "cell_type": "code",
   "execution_count": 80,
   "metadata": {},
   "outputs": [
    {
     "name": "stdout",
     "output_type": "stream",
     "text": [
      "f'(5) = 0.000\n",
      "x5 = 0.001\n",
      "Taxa aprendizado = 0.4\n"
     ]
    }
   ],
   "source": [
    "gradient_a(2,0.4)"
   ]
  },
  {
   "cell_type": "code",
   "execution_count": 81,
   "metadata": {},
   "outputs": [
    {
     "name": "stdout",
     "output_type": "stream",
     "text": [
      "f'(1) = 0.000\n",
      "x1 = 0.000\n",
      "Taxa aprendizado = 0.5\n"
     ]
    }
   ],
   "source": [
    "gradient_a(2,0.5)"
   ]
  },
  {
   "cell_type": "code",
   "execution_count": 82,
   "metadata": {},
   "outputs": [
    {
     "name": "stdout",
     "output_type": "stream",
     "text": [
      "f'(5) = -0.000\n",
      "x5 = -0.001\n",
      "Taxa aprendizado = 0.6\n"
     ]
    }
   ],
   "source": [
    "gradient_a(2,0.6)"
   ]
  },
  {
   "cell_type": "code",
   "execution_count": 83,
   "metadata": {},
   "outputs": [
    {
     "name": "stdout",
     "output_type": "stream",
     "text": [
      "f'(8) = 0.000\n",
      "x8 = 0.001\n",
      "Taxa aprendizado = 0.7\n"
     ]
    }
   ],
   "source": [
    "gradient_a(2,0.7)"
   ]
  },
  {
   "cell_type": "code",
   "execution_count": 84,
   "metadata": {},
   "outputs": [
    {
     "name": "stdout",
     "output_type": "stream",
     "text": [
      "f'(14) = 0.000\n",
      "x14 = 0.002\n",
      "Taxa aprendizado = 0.8\n"
     ]
    }
   ],
   "source": [
    "gradient_a(2,0.8)"
   ]
  },
  {
   "cell_type": "code",
   "execution_count": 85,
   "metadata": {},
   "outputs": [
    {
     "name": "stdout",
     "output_type": "stream",
     "text": [
      "f'(30) = 0.000\n",
      "x30 = 0.002\n",
      "Taxa aprendizado = 0.9\n"
     ]
    }
   ],
   "source": [
    "gradient_a(2,0.9)"
   ]
  },
  {
   "cell_type": "markdown",
   "metadata": {},
   "source": [
    "Equação B"
   ]
  },
  {
   "cell_type": "code",
   "execution_count": 49,
   "metadata": {},
   "outputs": [
    {
     "name": "stdout",
     "output_type": "stream",
     "text": [
      "f'(11) = 0.000\n",
      "x11 = 1.335\n",
      "Taxa aprendizado = 0.1\n"
     ]
    }
   ],
   "source": [
    "gradient_b(2,0.1)"
   ]
  },
  {
   "cell_type": "code",
   "execution_count": 87,
   "metadata": {},
   "outputs": [
    {
     "name": "stdout",
     "output_type": "stream",
     "text": [
      "f'(5) = -0.000\n",
      "x5 = 1.333\n",
      "Taxa aprendizado = 0.2\n"
     ]
    }
   ],
   "source": [
    "gradient_b(2,0.2)"
   ]
  },
  {
   "cell_type": "code",
   "execution_count": 88,
   "metadata": {},
   "outputs": [
    {
     "name": "stdout",
     "output_type": "stream",
     "text": [
      "f'(5) = 0.000\n",
      "x5 = 1.334\n",
      "Taxa aprendizado = 0.3\n"
     ]
    }
   ],
   "source": [
    "gradient_b(2,0.3)"
   ]
  },
  {
   "cell_type": "code",
   "execution_count": 89,
   "metadata": {},
   "outputs": [
    {
     "name": "stdout",
     "output_type": "stream",
     "text": [
      "f'(7) = 0.000\n",
      "x7 = 1.334\n",
      "Taxa aprendizado = 0.4\n"
     ]
    }
   ],
   "source": [
    "gradient_b(2,0.4)"
   ]
  },
  {
   "cell_type": "code",
   "execution_count": 90,
   "metadata": {},
   "outputs": [
    {
     "name": "stdout",
     "output_type": "stream",
     "text": [
      "f'(1) = 0.000\n",
      "x1 = 0.000\n",
      "Taxa aprendizado = 0.5\n"
     ]
    }
   ],
   "source": [
    "gradient_b(2,0.5)"
   ]
  }
 ],
 "metadata": {
  "kernelspec": {
   "display_name": "Python 3",
   "language": "python",
   "name": "python3"
  },
  "language_info": {
   "codemirror_mode": {
    "name": "ipython",
    "version": 3
   },
   "file_extension": ".py",
   "mimetype": "text/x-python",
   "name": "python",
   "nbconvert_exporter": "python",
   "pygments_lexer": "ipython3",
   "version": "3.6.4"
  }
 },
 "nbformat": 4,
 "nbformat_minor": 2
}
