{
 "cells": [
  {
   "cell_type": "code",
   "execution_count": 4,
   "metadata": {},
   "outputs": [],
   "source": [
    "def funcao_a(x):\n",
    "    return x*x\n",
    "\n",
    "def derivada_funcao_a(x):\n",
    "    return 2*x\n",
    "\n",
    "def funcao_b(x):\n",
    "    return ((x*x*x) - (2*(x*x)) + 2)\n",
    "\n",
    "def derivada_funcao_b(x):\n",
    "    return ((3*(x*x)) - (4*x))"
   ]
  },
  {
   "cell_type": "markdown",
   "metadata": {},
   "source": [
    "# Método Newton-Raphson"
   ]
  },
  {
   "cell_type": "code",
   "execution_count": 96,
   "metadata": {},
   "outputs": [],
   "source": [
    "from decimal import Decimal\n",
    "def newton_raphson_a(num, beta, max):\n",
    "    x = []\n",
    "    x.append(num)\n",
    "    f = []\n",
    "    f.append(round(funcao_a(x[0]),2))\n",
    "    \n",
    "    i=0\n",
    "\n",
    "    while((f[i] > 0)):\n",
    "            x.append(x[i] - (beta*f[i]*(1/derivada_funcao_a(x[i]))))\n",
    "            i+=1\n",
    "            f.append(round(funcao_a(x[i]),2))\n",
    "            \n",
    "            if i == max:\n",
    "                break\n",
    "\n",
    "    print(\"f({0}) = {1:.3f}\".format(i-1,f[i-1]))\n",
    "    print(\"x{0} = {1:.3f}\".format(i-1,x[i-1]))\n",
    "    print(\"Taxa aprendizado = {0:.1f}\".format(beta))"
   ]
  },
  {
   "cell_type": "code",
   "execution_count": 2,
   "metadata": {},
   "outputs": [],
   "source": [
    "def newton_raphson_b(num, beta, max):\n",
    "    x = []\n",
    "    x.append(num)\n",
    "    f = []\n",
    "    f.append(float(round(funcao_b(x[0]),2)))\n",
    "    \n",
    "    i=0\n",
    "    while((f[i] > 0)):\n",
    "        x.append(x[i] - (beta*f[i]*(1/derivada_funcao_b(x[i]))))\n",
    "        i+=1\n",
    "        f.append(float(round(funcao_b(x[i]),2)))\n",
    "        \n",
    "        if i == max:\n",
    "            break\n",
    "        \n",
    "    print(\"f({0}) = {1:.3f}\".format(i-1,f[i-1]))\n",
    "    print(\"x{0} = {1:.3f}\".format(i-1,x[i-1]))\n",
    "    print(\"Taxa aprendizado = {0:.1f}\".format(beta))"
   ]
  },
  {
   "cell_type": "markdown",
   "metadata": {},
   "source": [
    "# Resultado Newton-Raphson"
   ]
  },
  {
   "cell_type": "markdown",
   "metadata": {},
   "source": [
    "Equação A"
   ]
  },
  {
   "cell_type": "code",
   "execution_count": 97,
   "metadata": {},
   "outputs": [
    {
     "name": "stdout",
     "output_type": "stream",
     "text": [
      "f(64) = 0.010\n",
      "x64 = 0.073\n",
      "Taxa aprendizado = 0.1\n"
     ]
    }
   ],
   "source": [
    "newton_raphson_a(2,0.1,70)"
   ]
  },
  {
   "cell_type": "code",
   "execution_count": 98,
   "metadata": {},
   "outputs": [
    {
     "name": "stdout",
     "output_type": "stream",
     "text": [
      "f(30) = 0.010\n",
      "x30 = 0.080\n",
      "Taxa aprendizado = 0.2\n"
     ]
    }
   ],
   "source": [
    "newton_raphson_a(2,0.2,70)"
   ]
  },
  {
   "cell_type": "code",
   "execution_count": 99,
   "metadata": {},
   "outputs": [
    {
     "name": "stdout",
     "output_type": "stream",
     "text": [
      "f(20) = 0.010\n",
      "x20 = 0.082\n",
      "Taxa aprendizado = 0.3\n"
     ]
    }
   ],
   "source": [
    "newton_raphson_a(2,0.3, 70)"
   ]
  },
  {
   "cell_type": "code",
   "execution_count": 100,
   "metadata": {},
   "outputs": [
    {
     "name": "stdout",
     "output_type": "stream",
     "text": [
      "f(14) = 0.010\n",
      "x14 = 0.088\n",
      "Taxa aprendizado = 0.4\n"
     ]
    }
   ],
   "source": [
    "newton_raphson_a(2,0.4,70)"
   ]
  },
  {
   "cell_type": "code",
   "execution_count": 101,
   "metadata": {},
   "outputs": [
    {
     "name": "stdout",
     "output_type": "stream",
     "text": [
      "f(12) = 0.010\n",
      "x12 = 0.073\n",
      "Taxa aprendizado = 0.5\n"
     ]
    }
   ],
   "source": [
    "newton_raphson_a(2,0.5,70)"
   ]
  },
  {
   "cell_type": "code",
   "execution_count": 102,
   "metadata": {},
   "outputs": [
    {
     "name": "stdout",
     "output_type": "stream",
     "text": [
      "f(9) = 0.010\n",
      "x9 = 0.081\n",
      "Taxa aprendizado = 0.6\n"
     ]
    }
   ],
   "source": [
    "newton_raphson_a(2,0.6,70)"
   ]
  },
  {
   "cell_type": "code",
   "execution_count": 103,
   "metadata": {},
   "outputs": [
    {
     "name": "stdout",
     "output_type": "stream",
     "text": [
      "f(7) = 0.010\n",
      "x7 = 0.093\n",
      "Taxa aprendizado = 0.7\n"
     ]
    }
   ],
   "source": [
    "newton_raphson_a(2,0.7,70)"
   ]
  },
  {
   "cell_type": "code",
   "execution_count": 104,
   "metadata": {},
   "outputs": [
    {
     "name": "stdout",
     "output_type": "stream",
     "text": [
      "f(6) = 0.010\n",
      "x6 = 0.086\n",
      "Taxa aprendizado = 0.8\n"
     ]
    }
   ],
   "source": [
    "newton_raphson_a(2,0.8,70)"
   ]
  },
  {
   "cell_type": "code",
   "execution_count": 105,
   "metadata": {},
   "outputs": [
    {
     "name": "stdout",
     "output_type": "stream",
     "text": [
      "f(5) = 0.010\n",
      "x5 = 0.105\n",
      "Taxa aprendizado = 0.9\n"
     ]
    }
   ],
   "source": [
    "newton_raphson_a(2,0.9,70)"
   ]
  },
  {
   "cell_type": "markdown",
   "metadata": {},
   "source": [
    "Equação B"
   ]
  },
  {
   "cell_type": "code",
   "execution_count": 5,
   "metadata": {},
   "outputs": [
    {
     "name": "stdout",
     "output_type": "stream",
     "text": [
      "f(69) = 0.090\n",
      "x69 = -0.823\n",
      "Taxa aprendizado = 0.1\n"
     ]
    }
   ],
   "source": [
    "newton_raphson_b(2,0.1,70)"
   ]
  },
  {
   "cell_type": "code",
   "execution_count": 6,
   "metadata": {},
   "outputs": [
    {
     "name": "stdout",
     "output_type": "stream",
     "text": [
      "f(69) = 0.010\n",
      "x69 = -0.837\n",
      "Taxa aprendizado = 0.2\n"
     ]
    }
   ],
   "source": [
    "newton_raphson_b(2,0.2,70)"
   ]
  },
  {
   "cell_type": "code",
   "execution_count": 7,
   "metadata": {},
   "outputs": [
    {
     "name": "stdout",
     "output_type": "stream",
     "text": [
      "f(9) = 2.000\n",
      "x9 = -0.039\n",
      "Taxa aprendizado = 0.3\n"
     ]
    }
   ],
   "source": [
    "newton_raphson_b(2,0.3,70)"
   ]
  },
  {
   "cell_type": "code",
   "execution_count": 8,
   "metadata": {},
   "outputs": [
    {
     "name": "stdout",
     "output_type": "stream",
     "text": [
      "f(69) = 1.020\n",
      "x69 = 0.980\n",
      "Taxa aprendizado = 0.4\n"
     ]
    }
   ],
   "source": [
    "newton_raphson_b(2,0.4,70)"
   ]
  },
  {
   "cell_type": "code",
   "execution_count": 9,
   "metadata": {},
   "outputs": [
    {
     "name": "stdout",
     "output_type": "stream",
     "text": [
      "f(52) = 0.820\n",
      "x52 = 1.346\n",
      "Taxa aprendizado = 0.5\n"
     ]
    }
   ],
   "source": [
    "newton_raphson_b(2,0.5,70)"
   ]
  },
  {
   "cell_type": "code",
   "execution_count": 10,
   "metadata": {},
   "outputs": [
    {
     "name": "stdout",
     "output_type": "stream",
     "text": [
      "f(2) = 0.810\n",
      "x2 = 1.337\n",
      "Taxa aprendizado = 0.6\n"
     ]
    }
   ],
   "source": [
    "newton_raphson_b(2,0.6,70)"
   ]
  },
  {
   "cell_type": "code",
   "execution_count": 11,
   "metadata": {},
   "outputs": [
    {
     "name": "stdout",
     "output_type": "stream",
     "text": [
      "f(40) = 1.740\n",
      "x40 = -0.332\n",
      "Taxa aprendizado = 0.7\n"
     ]
    }
   ],
   "source": [
    "newton_raphson_b(2,0.7,70)"
   ]
  },
  {
   "cell_type": "code",
   "execution_count": 12,
   "metadata": {},
   "outputs": [
    {
     "name": "stdout",
     "output_type": "stream",
     "text": [
      "f(4) = 0.810\n",
      "x4 = 1.339\n",
      "Taxa aprendizado = 0.8\n"
     ]
    }
   ],
   "source": [
    "newton_raphson_b(2,0.8,70)"
   ]
  },
  {
   "cell_type": "code",
   "execution_count": 13,
   "metadata": {},
   "outputs": [
    {
     "name": "stdout",
     "output_type": "stream",
     "text": [
      "f(15) = 0.820\n",
      "x15 = 1.361\n",
      "Taxa aprendizado = 0.9\n"
     ]
    }
   ],
   "source": [
    "newton_raphson_b(2,0.9,70)"
   ]
  },
  {
   "cell_type": "markdown",
   "metadata": {},
   "source": [
    "# Descida de Gradiente"
   ]
  },
  {
   "cell_type": "code",
   "execution_count": 124,
   "metadata": {},
   "outputs": [],
   "source": [
    "def gradient_a(num,beta,max):\n",
    "    x = []\n",
    "    x.append(num)\n",
    "    f = []\n",
    "    f.append(round(funcao_a(x[0]),2))\n",
    "    \n",
    "    i=0\n",
    "    \n",
    "    while((f[i] > 0)):\n",
    "        x.append(x[i] - ((beta)*(derivada_funcao_a(x[i]))))\n",
    "        \n",
    "        i+=1\n",
    "    \n",
    "        f.append(round(derivada_funcao_a(x[i]),2))\n",
    "        \n",
    "        if i == max:\n",
    "            break\n",
    "    \n",
    "    print(\"f'({0}) = {1:.3f}\".format(i-1,f[i-1]))\n",
    "    print(\"x{0} = {1:.3f}\".format(i-1,x[i-1]))\n",
    "    print(\"Taxa aprendizado = {0:.1f}\".format(beta))"
   ]
  },
  {
   "cell_type": "code",
   "execution_count": 125,
   "metadata": {},
   "outputs": [],
   "source": [
    "def gradient_b(num,beta,max):\n",
    "    x = []\n",
    "    x.append(num)\n",
    "    f = []\n",
    "    f.append(round(funcao_b(x[0]),2))\n",
    "    \n",
    "    i=0\n",
    "    \n",
    "    while((f[i] > 0)):\n",
    "        x.append(x[i] - ((beta)*(derivada_funcao_b(x[i]))))\n",
    "        i+=1\n",
    "        f.append(round(derivada_funcao_b(x[i]),2))\n",
    "        \n",
    "        if i == max:\n",
    "            break\n",
    "    \n",
    "    print(\"f'({0}) = {1:.3f}\".format(i-1,f[i-1]))\n",
    "    print(\"x{0} = {1:.3f}\".format(i-1,x[i-1]))\n",
    "    print(\"Taxa aprendizado = {0:.1f}\".format(beta))"
   ]
  },
  {
   "cell_type": "markdown",
   "metadata": {},
   "source": [
    "# Resultado Descida de Gradiente"
   ]
  },
  {
   "cell_type": "markdown",
   "metadata": {},
   "source": [
    "Equação A"
   ]
  },
  {
   "cell_type": "code",
   "execution_count": 109,
   "metadata": {},
   "outputs": [
    {
     "name": "stdout",
     "output_type": "stream",
     "text": [
      "f'(29) = 0.010\n",
      "x29 = 0.003\n",
      "Taxa aprendizado = 0.1\n"
     ]
    }
   ],
   "source": [
    "gradient_a(2,0.1,40)"
   ]
  },
  {
   "cell_type": "code",
   "execution_count": 110,
   "metadata": {},
   "outputs": [
    {
     "name": "stdout",
     "output_type": "stream",
     "text": [
      "f'(13) = 0.010\n",
      "x13 = 0.003\n",
      "Taxa aprendizado = 0.2\n"
     ]
    }
   ],
   "source": [
    "gradient_a(2,0.2,40)"
   ]
  },
  {
   "cell_type": "code",
   "execution_count": 111,
   "metadata": {},
   "outputs": [
    {
     "name": "stdout",
     "output_type": "stream",
     "text": [
      "f'(7) = 0.010\n",
      "x7 = 0.003\n",
      "Taxa aprendizado = 0.3\n"
     ]
    }
   ],
   "source": [
    "gradient_a(2,0.3,40)"
   ]
  },
  {
   "cell_type": "code",
   "execution_count": 112,
   "metadata": {},
   "outputs": [
    {
     "name": "stdout",
     "output_type": "stream",
     "text": [
      "f'(4) = 0.010\n",
      "x4 = 0.003\n",
      "Taxa aprendizado = 0.4\n"
     ]
    }
   ],
   "source": [
    "gradient_a(2,0.4,40)"
   ]
  },
  {
   "cell_type": "code",
   "execution_count": 126,
   "metadata": {},
   "outputs": [
    {
     "name": "stdout",
     "output_type": "stream",
     "text": [
      "f'(0) = 4.000\n",
      "x0 = 2.000\n",
      "Taxa aprendizado = 0.5\n"
     ]
    }
   ],
   "source": [
    "gradient_a(2,0.5,40)"
   ]
  },
  {
   "cell_type": "code",
   "execution_count": 114,
   "metadata": {},
   "outputs": [
    {
     "name": "stdout",
     "output_type": "stream",
     "text": [
      "f'(0) = 4.000\n",
      "x0 = 2.000\n",
      "Taxa aprendizado = 0.6\n"
     ]
    }
   ],
   "source": [
    "gradient_a(2,0.6,40)"
   ]
  },
  {
   "cell_type": "code",
   "execution_count": 115,
   "metadata": {},
   "outputs": [
    {
     "name": "stdout",
     "output_type": "stream",
     "text": [
      "f'(0) = 4.000\n",
      "x0 = 2.000\n",
      "Taxa aprendizado = 0.7\n"
     ]
    }
   ],
   "source": [
    "gradient_a(2,0.7,40)"
   ]
  },
  {
   "cell_type": "code",
   "execution_count": 116,
   "metadata": {},
   "outputs": [
    {
     "name": "stdout",
     "output_type": "stream",
     "text": [
      "f'(0) = 4.000\n",
      "x0 = 2.000\n",
      "Taxa aprendizado = 0.8\n"
     ]
    }
   ],
   "source": [
    "gradient_a(2,0.8,40)"
   ]
  },
  {
   "cell_type": "code",
   "execution_count": 117,
   "metadata": {},
   "outputs": [
    {
     "name": "stdout",
     "output_type": "stream",
     "text": [
      "f'(0) = 4.000\n",
      "x0 = 2.000\n",
      "Taxa aprendizado = 0.9\n"
     ]
    }
   ],
   "source": [
    "gradient_a(2,0.9,40)"
   ]
  },
  {
   "cell_type": "markdown",
   "metadata": {},
   "source": [
    "Equação B"
   ]
  },
  {
   "cell_type": "code",
   "execution_count": 118,
   "metadata": {},
   "outputs": [
    {
     "name": "stdout",
     "output_type": "stream",
     "text": [
      "f'(10) = 0.010\n",
      "x10 = 1.335\n",
      "Taxa aprendizado = 0.1\n"
     ]
    }
   ],
   "source": [
    "gradient_b(2,0.1,40)"
   ]
  },
  {
   "cell_type": "code",
   "execution_count": 119,
   "metadata": {},
   "outputs": [
    {
     "name": "stdout",
     "output_type": "stream",
     "text": [
      "f'(0) = 2.000\n",
      "x0 = 2.000\n",
      "Taxa aprendizado = 0.2\n"
     ]
    }
   ],
   "source": [
    "gradient_b(2,0.2,40)"
   ]
  },
  {
   "cell_type": "code",
   "execution_count": 120,
   "metadata": {},
   "outputs": [
    {
     "name": "stdout",
     "output_type": "stream",
     "text": [
      "f'(0) = 2.000\n",
      "x0 = 2.000\n",
      "Taxa aprendizado = 0.3\n"
     ]
    }
   ],
   "source": [
    "gradient_b(2,0.3,40)"
   ]
  },
  {
   "cell_type": "code",
   "execution_count": 121,
   "metadata": {},
   "outputs": [
    {
     "name": "stdout",
     "output_type": "stream",
     "text": [
      "f'(0) = 2.000\n",
      "x0 = 2.000\n",
      "Taxa aprendizado = 0.4\n"
     ]
    }
   ],
   "source": [
    "gradient_b(2,0.4,40)"
   ]
  },
  {
   "cell_type": "code",
   "execution_count": 122,
   "metadata": {},
   "outputs": [
    {
     "name": "stdout",
     "output_type": "stream",
     "text": [
      "f'(0) = 2.000\n",
      "x0 = 2.000\n",
      "Taxa aprendizado = 0.5\n"
     ]
    }
   ],
   "source": [
    "gradient_b(2,0.5,40)"
   ]
  },
  {
   "cell_type": "code",
   "execution_count": 135,
   "metadata": {},
   "outputs": [
    {
     "name": "stdout",
     "output_type": "stream",
     "text": [
      "f'(5) = 29521505620.370\n",
      "x5 = -99198.637\n",
      "Taxa aprendizado = 0.6\n"
     ]
    }
   ],
   "source": [
    "gradient_b(2,0.6,6)"
   ]
  },
  {
   "cell_type": "code",
   "execution_count": 136,
   "metadata": {},
   "outputs": [
    {
     "name": "stdout",
     "output_type": "stream",
     "text": [
      "f'(5) = 32595208129358188.000\n",
      "x5 = -104235642.836\n",
      "Taxa aprendizado = 0.7\n"
     ]
    }
   ],
   "source": [
    "gradient_b(2,0.7,6)"
   ]
  },
  {
   "cell_type": "code",
   "execution_count": 137,
   "metadata": {},
   "outputs": [
    {
     "name": "stdout",
     "output_type": "stream",
     "text": [
      "f'(5) = 2151466461685423538176.000\n",
      "x5 = -26779758908.414\n",
      "Taxa aprendizado = 0.8\n"
     ]
    }
   ],
   "source": [
    "gradient_b(2,0.8,6)"
   ]
  },
  {
   "cell_type": "code",
   "execution_count": 138,
   "metadata": {},
   "outputs": [
    {
     "name": "stdout",
     "output_type": "stream",
     "text": [
      "f'(5) = 24242368297177316293869568.000\n",
      "x5 = -2842672937991.398\n",
      "Taxa aprendizado = 0.9\n"
     ]
    }
   ],
   "source": [
    "gradient_b(2,0.9,6)"
   ]
  }
 ],
 "metadata": {
  "kernelspec": {
   "display_name": "Python 3",
   "language": "python",
   "name": "python3"
  },
  "language_info": {
   "codemirror_mode": {
    "name": "ipython",
    "version": 3
   },
   "file_extension": ".py",
   "mimetype": "text/x-python",
   "name": "python",
   "nbconvert_exporter": "python",
   "pygments_lexer": "ipython3",
   "version": "3.6.4"
  }
 },
 "nbformat": 4,
 "nbformat_minor": 2
}
