{
 "cells": [
  {
   "cell_type": "code",
   "execution_count": 8,
   "metadata": {},
   "outputs": [],
   "source": [
    "from scipy import random\n",
    "import numpy as np\n",
    "from mpi4py import MPI\n",
    "#import matplotlib.pyplot as plt"
   ]
  },
  {
   "cell_type": "markdown",
   "metadata": {},
   "source": [
    "# Cálculo de Integral por Monte Carlo"
   ]
  },
  {
   "cell_type": "markdown",
   "metadata": {},
   "source": [
    "$$\\int_0^1 \\frac{4}{1+x^2} \\,dx$$"
   ]
  },
  {
   "cell_type": "code",
   "execution_count": 35,
   "metadata": {},
   "outputs": [],
   "source": [
    "n = 100"
   ]
  },
  {
   "cell_type": "code",
   "execution_count": 4,
   "metadata": {},
   "outputs": [],
   "source": [
    "def funcao(aleatorio,n):\n",
    "    a = 0\n",
    "    b = 4\n",
    "    integral = 0.0\n",
    "    for x in aleatorio:\n",
    "        integral += 4/(1+x**2)\n",
    "    \n",
    "    return (b-a)/float(n)*integral"
   ]
  },
  {
   "cell_type": "code",
   "execution_count": 41,
   "metadata": {},
   "outputs": [
    {
     "name": "stdout",
     "output_type": "stream",
     "text": [
      "Result = 5.133108317106942\n",
      "Wall time: 1.99 ms\n"
     ]
    }
   ],
   "source": [
    "%%time\n",
    "comm = MPI.COMM_WORLD\n",
    "nprocs = comm.Get_size()\n",
    "myrank = comm.Get_rank()\n",
    "\n",
    "if myrank == 0:\n",
    "    N = n // nprocs\n",
    "    samples = np.random.uniform(0,4,size=(nprocs,N,2))\n",
    "else:\n",
    "    samples = None\n",
    "samples = comm.scatter(samples, root=0)\n",
    "\n",
    "mypi = funcao(samples,N) / nprocs\n",
    "\n",
    "result = comm.reduce(mypi, root=0)\n",
    "\n",
    "result = result.mean()\n",
    "\n",
    "if myrank == 0:\n",
    "    print(\"Result = {0}\".format(result))"
   ]
  }
 ],
 "metadata": {
  "kernelspec": {
   "display_name": "Python 3",
   "language": "python",
   "name": "python3"
  },
  "language_info": {
   "codemirror_mode": {
    "name": "ipython",
    "version": 3
   },
   "file_extension": ".py",
   "mimetype": "text/x-python",
   "name": "python",
   "nbconvert_exporter": "python",
   "pygments_lexer": "ipython3",
   "version": "3.6.4"
  }
 },
 "nbformat": 4,
 "nbformat_minor": 2
}
