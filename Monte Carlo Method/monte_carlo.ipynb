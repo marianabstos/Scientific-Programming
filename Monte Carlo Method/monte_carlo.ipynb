{
 "cells": [
  {
   "cell_type": "code",
   "execution_count": 1,
   "metadata": {},
   "outputs": [],
   "source": [
    "from scipy import random\n",
    "import numpy as np\n",
    "import matplotlib.pyplot as plt"
   ]
  },
  {
   "cell_type": "markdown",
   "metadata": {},
   "source": [
    "# Cálculo de Integral por Monte Carlo"
   ]
  },
  {
   "cell_type": "markdown",
   "metadata": {},
   "source": [
    "$$\\int_0^1 \\frac{4}{1+x^2} \\,dx$$"
   ]
  },
  {
   "cell_type": "code",
   "execution_count": 102,
   "metadata": {},
   "outputs": [],
   "source": [
    "n = 1000\n",
    "a = 0\n",
    "b = 4\n",
    "x = np.zeros(n)\n",
    "f = lambda x: 4/(1+x**2) #função a ser calculada"
   ]
  },
  {
   "cell_type": "code",
   "execution_count": 103,
   "metadata": {},
   "outputs": [],
   "source": [
    "areas = []\n",
    "for i in range(n):\n",
    "    for i in range(len(x)):\n",
    "        x[i] = random.uniform(a,b) #Popula vetor com números aleatórios\n",
    "        integral = 0.0\n",
    "    \n",
    "    for i in range(len(x)):\n",
    "        integral += f(x[i]) #Resultado da função tendo x como números aleatórios\n",
    "    \n",
    "    answer = (b-a)/float(n)*integral #Cálculo final de monte carlo\n",
    "    areas.append(answer)"
   ]
  },
  {
   "cell_type": "code",
   "execution_count": 97,
   "metadata": {},
   "outputs": [
    {
     "data": {
      "text/plain": [
       "Text(0.5, 0, 'Areas')"
      ]
     },
     "execution_count": 97,
     "metadata": {},
     "output_type": "execute_result"
    },
    {
     "data": {
      "image/png": "[encoded data removed]",
      "text/plain": [
       "<Figure size 432x288 with 1 Axes>"
      ]
     },
     "metadata": {},
     "output_type": "display_data"
    }
   ],
   "source": [
    "plt.title(\"Monte Carlo Distribuição\")\n",
    "plt.hist(areas, bins=30, ec = 'black')\n",
    "plt.xlabel(\"Areas\")"
   ]
  },
  {
   "cell_type": "code",
   "execution_count": 4,
   "metadata": {},
   "outputs": [
    {
     "data": {
      "text/plain": [
       "2.0"
      ]
     },
     "execution_count": 4,
     "metadata": {},
     "output_type": "execute_result"
    }
   ],
   "source": [
    "np.sqrt(4)"
   ]
  },
  {
   "cell_type": "markdown",
   "metadata": {},
   "source": [
    "# Cálculo do volume de um objeto por Monte Carlo"
   ]
  },
  {
   "cell_type": "code",
   "execution_count": 35,
   "metadata": {},
   "outputs": [],
   "source": [
    "def f_toroide(x,y,z):\n",
    "    if(x<1): return 0.0\n",
    "    if(y<-3): return 0.0\n",
    "    if(z**2 + (np.sqrt(x**2 + y**2)-3)**2) > 1: return 0.0\n",
    "    \n",
    "    return (z**2 + (np.sqrt(x**2 + y**2)-3)**2)"
   ]
  },
  {
   "cell_type": "markdown",
   "metadata": {},
   "source": [
    "# n = 100"
   ]
  },
  {
   "cell_type": "code",
   "execution_count": 65,
   "metadata": {},
   "outputs": [
    {
     "name": "stdout",
     "output_type": "stream",
     "text": [
      "Wall time: 3.92 ms\n"
     ]
    }
   ],
   "source": [
    "%%time\n",
    "n = 100\n",
    "\n",
    "x_a = 1\n",
    "x_b = 4\n",
    "x = np.zeros(n)\n",
    "\n",
    "y_a = -3\n",
    "y_b = 4\n",
    "y = np.zeros(n)\n",
    "\n",
    "z_a = -1\n",
    "z_b = 1\n",
    "z = np.zeros(n)\n",
    "\n",
    "areas = []\n",
    "integral = 0.0\n",
    "for i in range(n):\n",
    "        x = random.uniform(x_a,x_b) #Popula vetor com números aleatórios\n",
    "        y = random.uniform(y_a,y_b) #Popula vetor com números aleatórios\n",
    "        z = random.uniform(z_a,z_b) #Popula vetor com números aleatórios\n",
    "    \n",
    "        integral += f_toroide(x,y,z) #Resultado da função tendo x como números aleatórios\n",
    "    \n",
    "answer = ((x_b-x_a)*(y_b-y_a)*(z_b-z_a))*(integral/float(n)) #Cálculo final de monte carlo"
   ]
  },
  {
   "cell_type": "code",
   "execution_count": 66,
   "metadata": {},
   "outputs": [
    {
     "data": {
      "text/plain": [
       "12.749736943451282"
      ]
     },
     "execution_count": 66,
     "metadata": {},
     "output_type": "execute_result"
    }
   ],
   "source": [
    "answer"
   ]
  },
  {
   "cell_type": "markdown",
   "metadata": {},
   "source": [
    "# n = 1000"
   ]
  },
  {
   "cell_type": "code",
   "execution_count": 67,
   "metadata": {},
   "outputs": [
    {
     "name": "stdout",
     "output_type": "stream",
     "text": [
      "Wall time: 13.2 ms\n"
     ]
    }
   ],
   "source": [
    "%%time\n",
    "n = 1000\n",
    "\n",
    "x_a = 1\n",
    "x_b = 4\n",
    "x = np.zeros(n)\n",
    "\n",
    "y_a = -3\n",
    "y_b = 4\n",
    "y = np.zeros(n)\n",
    "\n",
    "z_a = -1\n",
    "z_b = 1\n",
    "z = np.zeros(n)\n",
    "\n",
    "areas = []\n",
    "integral = 0.0\n",
    "for i in range(n):\n",
    "        x = random.uniform(x_a,x_b) #Popula vetor com números aleatórios\n",
    "        y = random.uniform(y_a,y_b) #Popula vetor com números aleatórios\n",
    "        z = random.uniform(z_a,z_b) #Popula vetor com números aleatórios\n",
    "    \n",
    "        integral += f_toroide(x,y,z) #Resultado da função tendo x como números aleatórios\n",
    "    \n",
    "answer = ((x_b-x_a)*(y_b-y_a)*(z_b-z_a))*(integral/float(n)) #Cálculo final de monte carlo"
   ]
  },
  {
   "cell_type": "code",
   "execution_count": 68,
   "metadata": {},
   "outputs": [
    {
     "data": {
      "text/plain": [
       "10.60644268050777"
      ]
     },
     "execution_count": 68,
     "metadata": {},
     "output_type": "execute_result"
    }
   ],
   "source": [
    "answer"
   ]
  },
  {
   "cell_type": "markdown",
   "metadata": {},
   "source": [
    "# n = 10000"
   ]
  },
  {
   "cell_type": "code",
   "execution_count": 69,
   "metadata": {},
   "outputs": [
    {
     "name": "stdout",
     "output_type": "stream",
     "text": [
      "Wall time: 160 ms\n"
     ]
    }
   ],
   "source": [
    "%%time\n",
    "n = 10000\n",
    "\n",
    "x_a = 1\n",
    "x_b = 4\n",
    "x = np.zeros(n)\n",
    "\n",
    "y_a = -3\n",
    "y_b = 4\n",
    "y = np.zeros(n)\n",
    "\n",
    "z_a = -1\n",
    "z_b = 1\n",
    "z = np.zeros(n)\n",
    "\n",
    "areas = []\n",
    "integral = 0.0\n",
    "for i in range(n):\n",
    "        x = random.uniform(x_a,x_b) #Popula vetor com números aleatórios\n",
    "        y = random.uniform(y_a,y_b) #Popula vetor com números aleatórios\n",
    "        z = random.uniform(z_a,z_b) #Popula vetor com números aleatórios\n",
    "    \n",
    "        integral += f_toroide(x,y,z) #Resultado da função tendo x como números aleatórios\n",
    "    \n",
    "answer = ((x_b-x_a)*(y_b-y_a)*(z_b-z_a))*(integral/float(n)) #Cálculo final de monte carlo"
   ]
  },
  {
   "cell_type": "code",
   "execution_count": 70,
   "metadata": {},
   "outputs": [
    {
     "data": {
      "text/plain": [
       "11.056613354355012"
      ]
     },
     "execution_count": 70,
     "metadata": {},
     "output_type": "execute_result"
    }
   ],
   "source": [
    "answer"
   ]
  }
 ],
 "metadata": {
  "kernelspec": {
   "display_name": "Python 3",
   "language": "python",
   "name": "python3"
  },
  "language_info": {
   "codemirror_mode": {
    "name": "ipython",
    "version": 3
   },
   "file_extension": ".py",
   "mimetype": "text/x-python",
   "name": "python",
   "nbconvert_exporter": "python",
   "pygments_lexer": "ipython3",
   "version": "3.6.4"
  }
 },
 "nbformat": 4,
 "nbformat_minor": 2
}
